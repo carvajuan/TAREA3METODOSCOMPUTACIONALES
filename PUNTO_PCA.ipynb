import matplotlib.pyplot as plt
import numpy as np

datos=open("WDBC.dat")
atos=open("WDBC.dat")

tamaño=0
for linea in datos:  #CICLO PARA SABER LA CANTIDAD DE DATOS EN EL ARCHIVO
    tamaño=tamaño+1
    
dat=np.ones([tamaño,32])  #MATRIZ PARA LUEGO ALMACENAR LOS DATOS

contador=0

for l in atos:     #CICLO QUE RECORRE EL ARCHIVO DE DATOS Y ALMACENA SUS DATOS EN LA MATRIZ dat
    l=l.split(",")
    for i in range(32):
        if(l[i]=="M"):
            l[i]=1
        elif(l[i]=="B"):
            l[i]=0
        else:
            dat[contador,i]=l[i]
    contador=contador+1
